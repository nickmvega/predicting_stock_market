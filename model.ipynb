{
 "cells": [
  {
   "cell_type": "code",
   "execution_count": 274,
   "metadata": {},
   "outputs": [],
   "source": [
    "import yfinance as yf\n",
    "import pandas as pd\n",
    "from sklearn.ensemble import RandomForestClassifier\n",
    "from sklearn.metrics import precision_score, classification_report"
   ]
  },
  {
   "cell_type": "code",
   "execution_count": 275,
   "metadata": {},
   "outputs": [],
   "source": [
    "def fetch_stock_data(ticker, start_date=\"1990-01-02 00:00:00-05:00\", end_date=None):\n",
    "    stock = yf.Ticker(ticker)\n",
    "    stock_data = stock.history(start=start_date, end=end_date)\n",
    "    stock_data.drop([\"Dividends\", \"Stock Splits\"], axis=1, inplace=True)\n",
    "    return stock_data"
   ]
  },
  {
   "cell_type": "code",
   "execution_count": 276,
   "metadata": {},
   "outputs": [],
   "source": [
    "def create_target_column(data, horizon=1):\n",
    "    data[\"Tomorrow\"] = data[\"Close\"].shift(-horizon)\n",
    "    data[\"Target\"] = (data[\"Tomorrow\"] > data[\"Close\"]).astype(int)\n",
    "    return data"
   ]
  },
  {
   "cell_type": "code",
   "execution_count": 277,
   "metadata": {},
   "outputs": [],
   "source": [
    "def train_random_forest_model(train_data, predictors, target):\n",
    "    model = RandomForestClassifier(n_estimators=500, min_samples_split=50, random_state=1)\n",
    "    model.fit(train_data[predictors], train_data[target])\n",
    "    return model"
   ]
  },
  {
   "cell_type": "code",
   "execution_count": 278,
   "metadata": {},
   "outputs": [],
   "source": [
    "def generate_additional_ticker_features(sp500, ticker_data, horizon, ticker):\n",
    "    ticker_data = create_target_column(ticker_data, horizon=1)\n",
    "    ticker_predictors = [\"Close\", \"Volume\", \"Open\", \"High\", \"Low\"]\n",
    "    \n",
    "    # Train model for the additional ticker\n",
    "    ticker_model = train_random_forest_model(ticker_data, ticker_predictors, \"Target\")\n",
    "    \n",
    "    # Generate predictions for the additional ticker\n",
    "    ticker_predictions = predict(ticker_data, ticker_data, ticker_predictors, ticker_model)\n",
    "    \n",
    "    # Add the predictions as a feature for the S&P 500 dataframe\n",
    "    sp500[f\"Prediction_{ticker}\"] = ticker_predictions[\"Predictions\"]\n",
    "\n",
    "    # Forward-fill missing values in the dataframe\n",
    "    sp500 = sp500.ffill()\n",
    "\n",
    "    return sp500"
   ]
  },
  {
   "cell_type": "code",
   "execution_count": 279,
   "metadata": {},
   "outputs": [],
   "source": [
    "def predict(train, test, predictors, model):\n",
    "    model.fit(train[predictors], train[\"Target\"])\n",
    "    preds = model.predict_proba(test[predictors])[:, 1]\n",
    "    preds[preds >= 0.6] = 1\n",
    "    preds[preds < 0.6] = 0\n",
    "    preds = pd.Series(preds, index=test.index, name=\"Predictions\")\n",
    "    combined = pd.concat([test[\"Target\"], preds], axis=1)\n",
    "    return combined"
   ]
  },
  {
   "cell_type": "code",
   "execution_count": 280,
   "metadata": {},
   "outputs": [],
   "source": [
    "def generate_features(data, horizons):\n",
    "    new_predictors = []\n",
    "\n",
    "    for horizon in horizons:\n",
    "        rolling_averages = data[\"Close\"].rolling(horizon).mean()\n",
    "\n",
    "        ratio_column = f\"Close_Ratio_{horizon}\"\n",
    "        data[ratio_column] = data[\"Close\"] / rolling_averages\n",
    "\n",
    "        trend_column = f\"Trend_{horizon}\"\n",
    "        data[trend_column] = data.shift(1).rolling(horizon).sum()[\"Target\"]\n",
    "\n",
    "        new_predictors += [ratio_column, trend_column]\n",
    "\n",
    "    data = data.dropna(subset=data.columns[data.columns != \"Target\"])\n",
    "    return data, new_predictors"
   ]
  },
  {
   "cell_type": "code",
   "execution_count": 281,
   "metadata": {},
   "outputs": [],
   "source": [
    "def backtest(data, model, predictors, start=2500, step=250):\n",
    "    all_predictions = []\n",
    "\n",
    "    for i in range(start, data.shape[0], step):\n",
    "        train = data.iloc[0:i].copy()\n",
    "        test = data.iloc[i:(i + step)].copy()\n",
    "        predictions = predict(train, test, predictors, model)\n",
    "        all_predictions.append(predictions)\n",
    "\n",
    "    return pd.concat(all_predictions)"
   ]
  },
  {
   "cell_type": "code",
   "execution_count": 282,
   "metadata": {},
   "outputs": [],
   "source": [
    "def calculate_precision(predictions):\n",
    "    precision = precision_score(predictions[\"Target\"], predictions[\"Predictions\"])\n",
    "    print(\"Precision:\", precision)"
   ]
  },
  {
   "cell_type": "code",
   "execution_count": 283,
   "metadata": {},
   "outputs": [],
   "source": [
    "def display_value_counts(predictions):\n",
    "    value_counts = predictions[\"Predictions\"].value_counts()\n",
    "    print(\"Value Counts of Predictions:\")\n",
    "    print(value_counts)"
   ]
  },
  {
   "cell_type": "code",
   "execution_count": 284,
   "metadata": {},
   "outputs": [],
   "source": [
    "def display_actual_value_counts(data):\n",
    "    actual_value_counts = data[\"Target\"].value_counts()\n",
    "    print(\"Actual Value Counts:\")\n",
    "    print(actual_value_counts)"
   ]
  },
  {
   "cell_type": "code",
   "execution_count": 285,
   "metadata": {},
   "outputs": [
    {
     "name": "stdout",
     "output_type": "stream",
     "text": [
      "Precision: 0.7663043478260869\n",
      "Value Counts of Predictions:\n",
      "Predictions\n",
      "0.0    226\n",
      "1.0    184\n",
      "Name: count, dtype: int64\n"
     ]
    }
   ],
   "source": [
    "sp500 = fetch_stock_data(\"^GSPC\", start_date=\"1990-01-02\")\n",
    "sp500 = create_target_column(sp500, horizon=1)\n",
    "\n",
    "# Train the S&P 500 model first\n",
    "predictors = [\"Close\", \"Volume\", \"Open\", \"High\", \"Low\"]\n",
    "model = train_random_forest_model(sp500, predictors, \"Target\")\n",
    "\n",
    "# Process data/train model for additional tickers\n",
    "additional_tickers = [\"AAPL\", \"MSFT\", \"AMZN\", \"NVDA\", \"GOOGL\", \"META\", \"GOOG\", \"TSLA\", \"UNH\"]\n",
    "for ticker in additional_tickers:\n",
    "    additional_data = fetch_stock_data(ticker, start_date=\"1990-01-02\")\n",
    "    sp500 = generate_additional_ticker_features(sp500, additional_data, horizon=1, ticker=ticker)\n",
    "\n",
    "combined_predictors = predictors + [f\"Prediction_{ticker}\" for ticker in additional_tickers]\n",
    "\n",
    "sp500 = sp500.ffill().dropna()\n",
    "\n",
    "final_model = train_random_forest_model(sp500, combined_predictors, \"Target\")\n",
    "\n",
    "backtest_results = backtest(sp500, final_model, combined_predictors)\n",
    "calculate_precision(backtest_results)\n",
    "display_value_counts(backtest_results)"
   ]
  },
  {
   "cell_type": "code",
   "execution_count": 286,
   "metadata": {},
   "outputs": [
    {
     "data": {
      "text/html": [
       "<div>\n",
       "<style scoped>\n",
       "    .dataframe tbody tr th:only-of-type {\n",
       "        vertical-align: middle;\n",
       "    }\n",
       "\n",
       "    .dataframe tbody tr th {\n",
       "        vertical-align: top;\n",
       "    }\n",
       "\n",
       "    .dataframe thead th {\n",
       "        text-align: right;\n",
       "    }\n",
       "</style>\n",
       "<table border=\"1\" class=\"dataframe\">\n",
       "  <thead>\n",
       "    <tr style=\"text-align: right;\">\n",
       "      <th></th>\n",
       "      <th>Target</th>\n",
       "      <th>Predictions</th>\n",
       "    </tr>\n",
       "    <tr>\n",
       "      <th>Date</th>\n",
       "      <th></th>\n",
       "      <th></th>\n",
       "    </tr>\n",
       "  </thead>\n",
       "  <tbody>\n",
       "    <tr>\n",
       "      <th>2022-04-26 00:00:00-04:00</th>\n",
       "      <td>1</td>\n",
       "      <td>0.0</td>\n",
       "    </tr>\n",
       "    <tr>\n",
       "      <th>2022-04-27 00:00:00-04:00</th>\n",
       "      <td>1</td>\n",
       "      <td>1.0</td>\n",
       "    </tr>\n",
       "    <tr>\n",
       "      <th>2022-04-28 00:00:00-04:00</th>\n",
       "      <td>0</td>\n",
       "      <td>0.0</td>\n",
       "    </tr>\n",
       "    <tr>\n",
       "      <th>2022-04-29 00:00:00-04:00</th>\n",
       "      <td>1</td>\n",
       "      <td>1.0</td>\n",
       "    </tr>\n",
       "    <tr>\n",
       "      <th>2022-05-02 00:00:00-04:00</th>\n",
       "      <td>1</td>\n",
       "      <td>1.0</td>\n",
       "    </tr>\n",
       "    <tr>\n",
       "      <th>...</th>\n",
       "      <td>...</td>\n",
       "      <td>...</td>\n",
       "    </tr>\n",
       "    <tr>\n",
       "      <th>2023-12-05 00:00:00-05:00</th>\n",
       "      <td>0</td>\n",
       "      <td>0.0</td>\n",
       "    </tr>\n",
       "    <tr>\n",
       "      <th>2023-12-06 00:00:00-05:00</th>\n",
       "      <td>1</td>\n",
       "      <td>1.0</td>\n",
       "    </tr>\n",
       "    <tr>\n",
       "      <th>2023-12-07 00:00:00-05:00</th>\n",
       "      <td>1</td>\n",
       "      <td>1.0</td>\n",
       "    </tr>\n",
       "    <tr>\n",
       "      <th>2023-12-08 00:00:00-05:00</th>\n",
       "      <td>1</td>\n",
       "      <td>0.0</td>\n",
       "    </tr>\n",
       "    <tr>\n",
       "      <th>2023-12-11 00:00:00-05:00</th>\n",
       "      <td>0</td>\n",
       "      <td>0.0</td>\n",
       "    </tr>\n",
       "  </tbody>\n",
       "</table>\n",
       "<p>410 rows × 2 columns</p>\n",
       "</div>"
      ],
      "text/plain": [
       "                           Target  Predictions\n",
       "Date                                          \n",
       "2022-04-26 00:00:00-04:00       1          0.0\n",
       "2022-04-27 00:00:00-04:00       1          1.0\n",
       "2022-04-28 00:00:00-04:00       0          0.0\n",
       "2022-04-29 00:00:00-04:00       1          1.0\n",
       "2022-05-02 00:00:00-04:00       1          1.0\n",
       "...                           ...          ...\n",
       "2023-12-05 00:00:00-05:00       0          0.0\n",
       "2023-12-06 00:00:00-05:00       1          1.0\n",
       "2023-12-07 00:00:00-05:00       1          1.0\n",
       "2023-12-08 00:00:00-05:00       1          0.0\n",
       "2023-12-11 00:00:00-05:00       0          0.0\n",
       "\n",
       "[410 rows x 2 columns]"
      ]
     },
     "execution_count": 286,
     "metadata": {},
     "output_type": "execute_result"
    }
   ],
   "source": [
    "backtest_results"
   ]
  }
 ],
 "metadata": {
  "kernelspec": {
   "display_name": "Python 3",
   "language": "python",
   "name": "python3"
  },
  "language_info": {
   "codemirror_mode": {
    "name": "ipython",
    "version": 3
   },
   "file_extension": ".py",
   "mimetype": "text/x-python",
   "name": "python",
   "nbconvert_exporter": "python",
   "pygments_lexer": "ipython3",
   "version": "3.11.4"
  }
 },
 "nbformat": 4,
 "nbformat_minor": 2
}
