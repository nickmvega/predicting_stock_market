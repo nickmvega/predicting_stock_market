{
 "cells": [
  {
   "cell_type": "code",
   "execution_count": 114,
   "metadata": {},
   "outputs": [],
   "source": [
    "import yfinance as yf\n",
    "import pandas as pd\n",
    "import numpy as np\n",
    "from sklearn.metrics import precision_score\n",
    "from sklearn.ensemble import RandomForestClassifier\n",
    "from sklearn.preprocessing import StandardScaler\n",
    "from sklearn.model_selection import TimeSeriesSplit\n",
    "from sklearn.metrics import classification_report\n",
    "from sklearn.impute import SimpleImputer"
   ]
  },
  {
   "cell_type": "code",
   "execution_count": 115,
   "metadata": {},
   "outputs": [],
   "source": [
    "sp500 = yf.Ticker(\"^GSPC\")"
   ]
  },
  {
   "cell_type": "code",
   "execution_count": 116,
   "metadata": {},
   "outputs": [],
   "source": [
    "sp500 = sp500.history(period=\"max\")\n",
    "del sp500[\"Dividends\"]\n",
    "del sp500[\"Stock Splits\"]"
   ]
  },
  {
   "cell_type": "code",
   "execution_count": 117,
   "metadata": {},
   "outputs": [],
   "source": [
    "sp500[\"Tomorrow\"] = sp500[\"Close\"].shift(-1)\n",
    "sp500[\"Target\"] = (sp500[\"Tomorrow\"] > sp500[\"Close\"]).astype(int)\n",
    "sp500 = sp500.loc[\"1990-01-02 00:00:00-05:00\":].copy()"
   ]
  },
  {
   "cell_type": "markdown",
   "metadata": {},
   "source": [
    "0: Stock price goes down \n",
    "1: Stock price goes\n"
   ]
  },
  {
   "cell_type": "code",
   "execution_count": 118,
   "metadata": {},
   "outputs": [
    {
     "data": {
      "text/html": [
       "<style>#sk-container-id-8 {color: black;}#sk-container-id-8 pre{padding: 0;}#sk-container-id-8 div.sk-toggleable {background-color: white;}#sk-container-id-8 label.sk-toggleable__label {cursor: pointer;display: block;width: 100%;margin-bottom: 0;padding: 0.3em;box-sizing: border-box;text-align: center;}#sk-container-id-8 label.sk-toggleable__label-arrow:before {content: \"▸\";float: left;margin-right: 0.25em;color: #696969;}#sk-container-id-8 label.sk-toggleable__label-arrow:hover:before {color: black;}#sk-container-id-8 div.sk-estimator:hover label.sk-toggleable__label-arrow:before {color: black;}#sk-container-id-8 div.sk-toggleable__content {max-height: 0;max-width: 0;overflow: hidden;text-align: left;background-color: #f0f8ff;}#sk-container-id-8 div.sk-toggleable__content pre {margin: 0.2em;color: black;border-radius: 0.25em;background-color: #f0f8ff;}#sk-container-id-8 input.sk-toggleable__control:checked~div.sk-toggleable__content {max-height: 200px;max-width: 100%;overflow: auto;}#sk-container-id-8 input.sk-toggleable__control:checked~label.sk-toggleable__label-arrow:before {content: \"▾\";}#sk-container-id-8 div.sk-estimator input.sk-toggleable__control:checked~label.sk-toggleable__label {background-color: #d4ebff;}#sk-container-id-8 div.sk-label input.sk-toggleable__control:checked~label.sk-toggleable__label {background-color: #d4ebff;}#sk-container-id-8 input.sk-hidden--visually {border: 0;clip: rect(1px 1px 1px 1px);clip: rect(1px, 1px, 1px, 1px);height: 1px;margin: -1px;overflow: hidden;padding: 0;position: absolute;width: 1px;}#sk-container-id-8 div.sk-estimator {font-family: monospace;background-color: #f0f8ff;border: 1px dotted black;border-radius: 0.25em;box-sizing: border-box;margin-bottom: 0.5em;}#sk-container-id-8 div.sk-estimator:hover {background-color: #d4ebff;}#sk-container-id-8 div.sk-parallel-item::after {content: \"\";width: 100%;border-bottom: 1px solid gray;flex-grow: 1;}#sk-container-id-8 div.sk-label:hover label.sk-toggleable__label {background-color: #d4ebff;}#sk-container-id-8 div.sk-serial::before {content: \"\";position: absolute;border-left: 1px solid gray;box-sizing: border-box;top: 0;bottom: 0;left: 50%;z-index: 0;}#sk-container-id-8 div.sk-serial {display: flex;flex-direction: column;align-items: center;background-color: white;padding-right: 0.2em;padding-left: 0.2em;position: relative;}#sk-container-id-8 div.sk-item {position: relative;z-index: 1;}#sk-container-id-8 div.sk-parallel {display: flex;align-items: stretch;justify-content: center;background-color: white;position: relative;}#sk-container-id-8 div.sk-item::before, #sk-container-id-8 div.sk-parallel-item::before {content: \"\";position: absolute;border-left: 1px solid gray;box-sizing: border-box;top: 0;bottom: 0;left: 50%;z-index: -1;}#sk-container-id-8 div.sk-parallel-item {display: flex;flex-direction: column;z-index: 1;position: relative;background-color: white;}#sk-container-id-8 div.sk-parallel-item:first-child::after {align-self: flex-end;width: 50%;}#sk-container-id-8 div.sk-parallel-item:last-child::after {align-self: flex-start;width: 50%;}#sk-container-id-8 div.sk-parallel-item:only-child::after {width: 0;}#sk-container-id-8 div.sk-dashed-wrapped {border: 1px dashed gray;margin: 0 0.4em 0.5em 0.4em;box-sizing: border-box;padding-bottom: 0.4em;background-color: white;}#sk-container-id-8 div.sk-label label {font-family: monospace;font-weight: bold;display: inline-block;line-height: 1.2em;}#sk-container-id-8 div.sk-label-container {text-align: center;}#sk-container-id-8 div.sk-container {/* jupyter's `normalize.less` sets `[hidden] { display: none; }` but bootstrap.min.css set `[hidden] { display: none !important; }` so we also need the `!important` here to be able to override the default hidden behavior on the sphinx rendered scikit-learn.org. See: https://github.com/scikit-learn/scikit-learn/issues/21755 */display: inline-block !important;position: relative;}#sk-container-id-8 div.sk-text-repr-fallback {display: none;}</style><div id=\"sk-container-id-8\" class=\"sk-top-container\"><div class=\"sk-text-repr-fallback\"><pre>RandomForestClassifier(min_samples_split=50, n_estimators=200, random_state=1)</pre><b>In a Jupyter environment, please rerun this cell to show the HTML representation or trust the notebook. <br />On GitHub, the HTML representation is unable to render, please try loading this page with nbviewer.org.</b></div><div class=\"sk-container\" hidden><div class=\"sk-item\"><div class=\"sk-estimator sk-toggleable\"><input class=\"sk-toggleable__control sk-hidden--visually\" id=\"sk-estimator-id-8\" type=\"checkbox\" checked><label for=\"sk-estimator-id-8\" class=\"sk-toggleable__label sk-toggleable__label-arrow\">RandomForestClassifier</label><div class=\"sk-toggleable__content\"><pre>RandomForestClassifier(min_samples_split=50, n_estimators=200, random_state=1)</pre></div></div></div></div></div>"
      ],
      "text/plain": [
       "RandomForestClassifier(min_samples_split=50, n_estimators=200, random_state=1)"
      ]
     },
     "execution_count": 118,
     "metadata": {},
     "output_type": "execute_result"
    }
   ],
   "source": [
    "model = RandomForestClassifier(n_estimators=200, min_samples_split=50, random_state=1)\n",
    "\n",
    "train = sp500.iloc[:-100]\n",
    "test = sp500.iloc[-100:]\n",
    "\n",
    "predictors = [\"Close\", \"Volume\", \"Open\", \"High\", \"Low\"]\n",
    "model.fit(train[predictors], train[\"Target\"])"
   ]
  },
  {
   "cell_type": "code",
   "execution_count": 119,
   "metadata": {},
   "outputs": [],
   "source": [
    "def preprocess_data(data):\n",
    "    scaler = StandardScaler()\n",
    "    data[predictors] = scaler.fit_transform(data[predictors])\n",
    "    return data"
   ]
  },
  {
   "cell_type": "code",
   "execution_count": 120,
   "metadata": {},
   "outputs": [],
   "source": [
    "def predict(train, test, predictors, model):\n",
    "    \"\"\"\n",
    "    Train the model on the training data and make predictions on the test data.\n",
    "\n",
    "    Parameters:\n",
    "    - train: Training data\n",
    "    - test: Test data\n",
    "    - predictors: List of feature names\n",
    "    - model: Machine learning model\n",
    "\n",
    "    Returns:\n",
    "    - combined: DataFrame containing actual and predicted values\n",
    "    \"\"\"\n",
    "    model.fit(train[predictors], train[\"Target\"])\n",
    "    preds = model.predict_proba(test[predictors])[:,1]\n",
    "    preds[preds >=.6] = 1\n",
    "    preds[preds <.6] = 0\n",
    "    preds = pd.Series(preds, index=test.index, name=\"Predictions\")\n",
    "    combined = pd.concat([test[\"Target\"], preds], axis=1)\n",
    "\n",
    "    return combined"
   ]
  },
  {
   "cell_type": "code",
   "execution_count": 121,
   "metadata": {},
   "outputs": [],
   "source": [
    "from sklearn.metrics import classification_report\n",
    "\n",
    "def backtest(data, model, predictors, n_splits=5):\n",
    "    all_predictions = []\n",
    "    np.random.seed(1)\n",
    "    tscv = TimeSeriesSplit(n_splits=n_splits)\n",
    "\n",
    "    for train_idx, test_idx in tscv.split(data):\n",
    "        train, test = data.iloc[train_idx], data.iloc[test_idx].copy()\n",
    "        predictions = predict(train, test, predictors, model)\n",
    "        all_predictions.append(predictions)\n",
    "        print(f\"Evaluation for fold {len(all_predictions)}:\")\n",
    "        print(classification_report(test[\"Target\"], predictions[\"Predictions\"]))\n",
    "\n",
    "    return all_predictions\n"
   ]
  },
  {
   "cell_type": "code",
   "execution_count": 122,
   "metadata": {},
   "outputs": [],
   "source": [
    "def generate_features(data, horizons):\n",
    "    new_predictors = []\n",
    "\n",
    "    for horizon in horizons:\n",
    "        rolling_averages = data[\"Close\"].rolling(horizon).mean()\n",
    "\n",
    "        ratio_column = f\"Close_Ratio_{horizon}\"\n",
    "        trend_column = f\"Trend_{horizon}\"\n",
    "\n",
    "        data[ratio_column] = data[\"Close\"] / rolling_averages\n",
    "        data[trend_column] = data.shift(1).rolling(horizon).sum()[\"Target\"]\n",
    "\n",
    "        new_predictors += [ratio_column, trend_column]\n",
    "\n",
    "    data = data.dropna(subset=data.columns[data.columns != \"Target\"])\n",
    "\n",
    "    return data, new_predictors\n"
   ]
  },
  {
   "cell_type": "code",
   "execution_count": 123,
   "metadata": {},
   "outputs": [],
   "source": [
    "def calculate_precision(predictions):\n",
    "    precision = precision_score(predictions[\"Target\"], predictions[\"Predictions\"])\n",
    "    print(\"Precision:\", precision)"
   ]
  },
  {
   "cell_type": "code",
   "execution_count": 124,
   "metadata": {},
   "outputs": [],
   "source": [
    "def display_value_counts(predictions):\n",
    "    value_counts = predictions[\"Predictions\"].value_counts()\n",
    "    print(\"Value Counts of Predictions:\")\n",
    "    print(value_counts)"
   ]
  },
  {
   "cell_type": "code",
   "execution_count": 133,
   "metadata": {},
   "outputs": [],
   "source": [
    "def display_actual_value_counts(data):\n",
    "    actual_value_counts = data[\"Target\"].value_counts()\n",
    "    print(\"Actual Value Counts:\")\n",
    "    print(actual_value_counts)"
   ]
  },
  {
   "cell_type": "code",
   "execution_count": 125,
   "metadata": {},
   "outputs": [
    {
     "name": "stdout",
     "output_type": "stream",
     "text": [
      "Evaluation for fold 1:\n",
      "              precision    recall  f1-score   support\n",
      "\n",
      "           0       0.52      0.22      0.31       643\n",
      "           1       0.49      0.78      0.60       615\n",
      "\n",
      "    accuracy                           0.50      1258\n",
      "   macro avg       0.50      0.50      0.46      1258\n",
      "weighted avg       0.50      0.50      0.45      1258\n",
      "\n",
      "Evaluation for fold 2:\n",
      "              precision    recall  f1-score   support\n",
      "\n",
      "           0       0.46      0.75      0.57       570\n",
      "           1       0.57      0.28      0.37       688\n",
      "\n",
      "    accuracy                           0.49      1258\n",
      "   macro avg       0.51      0.51      0.47      1258\n",
      "weighted avg       0.52      0.49      0.46      1258\n",
      "\n",
      "Evaluation for fold 3:\n",
      "              precision    recall  f1-score   support\n",
      "\n",
      "           0       0.45      0.81      0.58       557\n",
      "           1       0.58      0.21      0.31       701\n",
      "\n",
      "    accuracy                           0.48      1258\n",
      "   macro avg       0.51      0.51      0.44      1258\n",
      "weighted avg       0.52      0.48      0.43      1258\n",
      "\n",
      "Evaluation for fold 4:\n",
      "              precision    recall  f1-score   support\n",
      "\n",
      "           0       0.47      0.82      0.60       587\n",
      "           1       0.54      0.18      0.27       671\n",
      "\n",
      "    accuracy                           0.48      1258\n",
      "   macro avg       0.51      0.50      0.44      1258\n",
      "weighted avg       0.51      0.48      0.42      1258\n",
      "\n",
      "Evaluation for fold 5:\n",
      "              precision    recall  f1-score   support\n",
      "\n",
      "           0       0.47      0.90      0.61       581\n",
      "           1       0.58      0.12      0.20       677\n",
      "\n",
      "    accuracy                           0.48      1258\n",
      "   macro avg       0.52      0.51      0.41      1258\n",
      "weighted avg       0.53      0.48      0.39      1258\n",
      "\n"
     ]
    }
   ],
   "source": [
    "sp500, new_predictors = generate_features(sp500, [2, 5, 60, 250, 1000])\n",
    "predictions = backtest(sp500, model, new_predictors)\n",
    "combined_predictions = pd.concat(predictions)"
   ]
  },
  {
   "cell_type": "code",
   "execution_count": 130,
   "metadata": {},
   "outputs": [
    {
     "name": "stdout",
     "output_type": "stream",
     "text": [
      "Precision: 0.527806385169928\n"
     ]
    }
   ],
   "source": [
    "calculate_precision(combined_predictions)"
   ]
  },
  {
   "cell_type": "code",
   "execution_count": 131,
   "metadata": {},
   "outputs": [
    {
     "name": "stdout",
     "output_type": "stream",
     "text": [
      "Value Counts of Predictions:\n",
      "Predictions\n",
      "0.0    4348\n",
      "1.0    1942\n",
      "Name: count, dtype: int64\n"
     ]
    }
   ],
   "source": [
    "display_value_counts(combined_predictions)"
   ]
  },
  {
   "cell_type": "code",
   "execution_count": 134,
   "metadata": {},
   "outputs": [
    {
     "name": "stdout",
     "output_type": "stream",
     "text": [
      "Actual Value Counts:\n",
      "Target\n",
      "1    4057\n",
      "0    3493\n",
      "Name: count, dtype: int64\n"
     ]
    }
   ],
   "source": [
    "display_actual_value_counts(sp500)"
   ]
  }
 ],
 "metadata": {
  "kernelspec": {
   "display_name": "Python 3",
   "language": "python",
   "name": "python3"
  },
  "language_info": {
   "codemirror_mode": {
    "name": "ipython",
    "version": 3
   },
   "file_extension": ".py",
   "mimetype": "text/x-python",
   "name": "python",
   "nbconvert_exporter": "python",
   "pygments_lexer": "ipython3",
   "version": "3.11.4"
  }
 },
 "nbformat": 4,
 "nbformat_minor": 2
}
